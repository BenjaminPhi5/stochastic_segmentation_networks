{
 "cells": [
  {
   "cell_type": "code",
   "execution_count": 1,
   "id": "af9eb416-aebd-40d2-81c5-c179aa061235",
   "metadata": {},
   "outputs": [],
   "source": [
    "import ssn"
   ]
  },
  {
   "cell_type": "code",
   "execution_count": 4,
   "id": "3626a5c5-1884-423c-9d02-7f440d1fe2c0",
   "metadata": {},
   "outputs": [],
   "source": [
    "from ssn.models import DeepMedic, StochasticDeepMedic"
   ]
  },
  {
   "cell_type": "code",
   "execution_count": 7,
   "id": "946ad3f5-02bb-4875-b21b-6faf8ab41205",
   "metadata": {},
   "outputs": [],
   "source": [
    "SCALE_FACTORS = ((5, 5, 5), (3, 3, 3), (1, 1, 1))\n",
    "FEATURE_MAPS = (30, 30, 40, 40, 40, 40, 50, 50)\n",
    "FULLY_CONNECTED = (250, 250)\n",
    "DROPOUT = (.0, .5, .5)\n",
    "\n",
    "model = StochasticDeepMedic(input_channels=2,\n",
    "                 num_classes=2,\n",
    "                 scale_factors=SCALE_FACTORS,\n",
    "                 feature_maps=FEATURE_MAPS,\n",
    "                 fully_connected=FULLY_CONNECTED,\n",
    "                 dropout=DROPOUT,\n",
    "                 rank = 10,\n",
    "                 epsilon=1e-5,\n",
    "                 diagonal=False)"
   ]
  },
  {
   "cell_type": "code",
   "execution_count": null,
   "id": "26fe6236-402b-40a3-bdeb-f768c60d1749",
   "metadata": {},
   "outputs": [],
   "source": []
  }
 ],
 "metadata": {
  "kernelspec": {
   "display_name": "Python 3 (ipykernel)",
   "language": "python",
   "name": "python3"
  },
  "language_info": {
   "codemirror_mode": {
    "name": "ipython",
    "version": 3
   },
   "file_extension": ".py",
   "mimetype": "text/x-python",
   "name": "python",
   "nbconvert_exporter": "python",
   "pygments_lexer": "ipython3",
   "version": "3.9.12"
  }
 },
 "nbformat": 4,
 "nbformat_minor": 5
}
